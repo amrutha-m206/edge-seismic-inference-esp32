{
 "cells": [
  {
   "cell_type": "code",
   "execution_count": 187,
   "metadata": {
    "id": "7FXNJFLtEH-s"
   },
   "outputs": [],
   "source": [
    "import pandas as pd\n",
    "import numpy as np\n",
    "import matplotlib.pyplot as plt\n",
    "import tensorflow as tf\n",
    "\n",
    "from tensorflow.keras.layers import Input, Dense\n",
    "from tensorflow.keras.models import Model\n",
    "from sklearn.model_selection import train_test_split"
   ]
  },
  {
   "cell_type": "code",
   "execution_count": 189,
   "metadata": {
    "id": "W2n1zxkuhq8S"
   },
   "outputs": [],
   "source": [
    "earthquakes = pd.read_csv('earthquakes.csv')\n"
   ]
  },
  {
   "cell_type": "code",
   "execution_count": 190,
   "metadata": {
    "colab": {
     "base_uri": "https://localhost:8080/",
     "height": 206
    },
    "id": "fgMXTjjNh7BD",
    "outputId": "fac495ad-0325-4fa2-b793-8b4391570db8"
   },
   "outputs": [
    {
     "data": {
      "text/html": [
       "<div>\n",
       "<style scoped>\n",
       "    .dataframe tbody tr th:only-of-type {\n",
       "        vertical-align: middle;\n",
       "    }\n",
       "\n",
       "    .dataframe tbody tr th {\n",
       "        vertical-align: top;\n",
       "    }\n",
       "\n",
       "    .dataframe thead th {\n",
       "        text-align: right;\n",
       "    }\n",
       "</style>\n",
       "<table border=\"1\" class=\"dataframe\">\n",
       "  <thead>\n",
       "    <tr style=\"text-align: right;\">\n",
       "      <th></th>\n",
       "      <th>magnitude</th>\n",
       "      <th>cdi</th>\n",
       "      <th>depth</th>\n",
       "      <th>distanceKM</th>\n",
       "    </tr>\n",
       "  </thead>\n",
       "  <tbody>\n",
       "    <tr>\n",
       "      <th>0</th>\n",
       "      <td>4.8</td>\n",
       "      <td>6</td>\n",
       "      <td>4.0440</td>\n",
       "      <td>33</td>\n",
       "    </tr>\n",
       "    <tr>\n",
       "      <th>1</th>\n",
       "      <td>5.1</td>\n",
       "      <td>6</td>\n",
       "      <td>6.1279</td>\n",
       "      <td>34</td>\n",
       "    </tr>\n",
       "    <tr>\n",
       "      <th>2</th>\n",
       "      <td>3.7</td>\n",
       "      <td>4</td>\n",
       "      <td>10.9000</td>\n",
       "      <td>6</td>\n",
       "    </tr>\n",
       "    <tr>\n",
       "      <th>3</th>\n",
       "      <td>3.9</td>\n",
       "      <td>3</td>\n",
       "      <td>6.2024</td>\n",
       "      <td>58</td>\n",
       "    </tr>\n",
       "    <tr>\n",
       "      <th>4</th>\n",
       "      <td>4.1</td>\n",
       "      <td>3</td>\n",
       "      <td>8.8140</td>\n",
       "      <td>60</td>\n",
       "    </tr>\n",
       "  </tbody>\n",
       "</table>\n",
       "</div>"
      ],
      "text/plain": [
       "   magnitude  cdi    depth  distanceKM\n",
       "0        4.8    6   4.0440          33\n",
       "1        5.1    6   6.1279          34\n",
       "2        3.7    4  10.9000           6\n",
       "3        3.9    3   6.2024          58\n",
       "4        4.1    3   8.8140          60"
      ]
     },
     "execution_count": 190,
     "metadata": {},
     "output_type": "execute_result"
    }
   ],
   "source": [
    "earthquakes.head()"
   ]
  },
  {
   "cell_type": "code",
   "execution_count": 191,
   "metadata": {
    "colab": {
     "base_uri": "https://localhost:8080/"
    },
    "id": "aeNp0JlWihYi",
    "outputId": "853354aa-ca46-4366-a96f-6ea6c109ca33"
   },
   "outputs": [
    {
     "name": "stdout",
     "output_type": "stream",
     "text": [
      "<class 'pandas.core.frame.DataFrame'>\n",
      "RangeIndex: 1137 entries, 0 to 1136\n",
      "Data columns (total 4 columns):\n",
      " #   Column      Non-Null Count  Dtype  \n",
      "---  ------      --------------  -----  \n",
      " 0   magnitude   1137 non-null   float64\n",
      " 1   cdi         1137 non-null   int64  \n",
      " 2   depth       1137 non-null   float64\n",
      " 3   distanceKM  1137 non-null   int64  \n",
      "dtypes: float64(2), int64(2)\n",
      "memory usage: 35.7 KB\n"
     ]
    }
   ],
   "source": [
    "earthquakes.info()"
   ]
  },
  {
   "cell_type": "code",
   "execution_count": 192,
   "metadata": {
    "colab": {
     "base_uri": "https://localhost:8080/"
    },
    "id": "-RqFzlmVimFC",
    "outputId": "19bb664e-5bc1-4ac6-e5f5-75672d75dae3"
   },
   "outputs": [
    {
     "data": {
      "text/plain": [
       "(1137, 4)"
      ]
     },
     "execution_count": 192,
     "metadata": {},
     "output_type": "execute_result"
    }
   ],
   "source": [
    "earthquakes.shape"
   ]
  },
  {
   "cell_type": "code",
   "execution_count": 193,
   "metadata": {
    "colab": {
     "base_uri": "https://localhost:8080/",
     "height": 241
    },
    "id": "-5JIc-E6iMTF",
    "outputId": "7a3ee8c0-124f-419c-bca4-3c311bd21b4e"
   },
   "outputs": [
    {
     "data": {
      "text/plain": [
       "magnitude     0\n",
       "cdi           0\n",
       "depth         0\n",
       "distanceKM    0\n",
       "dtype: int64"
      ]
     },
     "execution_count": 193,
     "metadata": {},
     "output_type": "execute_result"
    }
   ],
   "source": [
    "earthquakes.isna().sum()"
   ]
  },
  {
   "cell_type": "code",
   "execution_count": 194,
   "metadata": {
    "id": "xkwBU5k7idVz"
   },
   "outputs": [],
   "source": [
    "X = earthquakes[['cdi','depth','distanceKM']]\n",
    "y = earthquakes['magnitude']"
   ]
  },
  {
   "cell_type": "code",
   "execution_count": 195,
   "metadata": {
    "id": "nN6LPMfukrO3"
   },
   "outputs": [],
   "source": [
    "from sklearn.preprocessing import StandardScaler\n",
    "scaler = StandardScaler()\n",
    "X_scaled = scaler.fit_transform(X)\n"
   ]
  },
  {
   "cell_type": "code",
   "execution_count": 197,
   "metadata": {
    "colab": {
     "base_uri": "https://localhost:8080/"
    },
    "id": "rbz6N0nnm8ea",
    "outputId": "f8f75b9e-6292-4fc6-c7c2-05c532f389ba"
   },
   "outputs": [
    {
     "data": {
      "text/plain": [
       "array([ 0.02918438, -0.39947355,  0.10197061])"
      ]
     },
     "execution_count": 197,
     "metadata": {},
     "output_type": "execute_result"
    }
   ],
   "source": [
    "X_scaled[3]"
   ]
  },
  {
   "cell_type": "code",
   "execution_count": 204,
   "metadata": {
    "colab": {
     "base_uri": "https://localhost:8080/"
    },
    "id": "Ma6ReCE7o2MU",
    "outputId": "d8d84f0f-6abe-4d62-e663-4d2439d4ee7c"
   },
   "outputs": [
    {
     "name": "stdout",
     "output_type": "stream",
     "text": [
      "Original shape of X: (1137, 3)\n",
      "Shape of X after removing outliers: (1054, 3)\n",
      "Original shape of y: (1137,)\n",
      "Shape of y after removing outliers: (1054,)\n"
     ]
    }
   ],
   "source": [
    "from scipy import stats\n",
    "combined_data = np.column_stack((X_scaled, y))\n",
    "\n",
    "z_scores = np.abs(stats.zscore(combined_data))\n",
    "\n",
    "mask = (z_scores < 3).all(axis=1)\n",
    "\n",
    "X_no_outliers = X_scaled[mask]\n",
    "y_no_outliers = y[mask]\n",
    "\n",
    "\n",
    "print(f\"Original shape of X: {X.shape}\")\n",
    "print(f\"Shape of X after removing outliers: {X_no_outliers.shape}\")\n",
    "print(f\"Original shape of y: {y.shape}\")\n",
    "print(f\"Shape of y after removing outliers: {y_no_outliers.shape}\")"
   ]
  },
  {
   "cell_type": "code",
   "execution_count": 205,
   "metadata": {
    "colab": {
     "base_uri": "https://localhost:8080/"
    },
    "id": "1bZl6W6Bi6X9",
    "outputId": "9f339502-d3f2-408c-ce42-e3029b6cfc31"
   },
   "outputs": [
    {
     "name": "stdout",
     "output_type": "stream",
     "text": [
      "Training Data Shape: (843, 3)\n",
      "Validation Data Shape: (105, 3)\n",
      "Testing Data Shape: (106, 3)\n"
     ]
    }
   ],
   "source": [
    "from sklearn.model_selection import train_test_split\n",
    "\n",
    "X_train, X_temp, y_train, y_temp = train_test_split(X_no_outliers, y_no_outliers, test_size=0.2, random_state=42)\n",
    "X_val, X_test, y_val, y_test = train_test_split(X_temp, y_temp, test_size=0.5, random_state=42)\n",
    "\n",
    "print(\"Training Data Shape:\", X_train.shape)\n",
    "print(\"Validation Data Shape:\", X_val.shape)\n",
    "print(\"Testing Data Shape:\", X_test.shape)"
   ]
  },
  {
   "cell_type": "code",
   "execution_count": 206,
   "metadata": {
    "id": "FZuu3ZygifHO"
   },
   "outputs": [],
   "source": [
    "DENSE1_SIZE = 64\n",
    "DENSE2_SIZE = 32\n",
    "NUM_OF_EPOCHS = 200\n",
    "BATCH_SIZE = 6\n",
    "\n",
    "model = tf.keras.Sequential([\n",
    "    tf.keras.layers.Input(shape=(X_train.shape[1],)),\n",
    "    tf.keras.layers.Dense(DENSE1_SIZE, activation='relu'),\n",
    "    tf.keras.layers.Dense(DENSE2_SIZE, activation='relu'),\n",
    "    tf.keras.layers.Dense(1)\n",
    "])"
   ]
  },
  {
   "cell_type": "code",
   "execution_count": 207,
   "metadata": {
    "id": "lO4JNDdhi3PS"
   },
   "outputs": [],
   "source": [
    "model.compile(loss='mean_squared_error', optimizer=tf.keras.optimizers.Adam(learning_rate=0.001), metrics=['mae'])"
   ]
  },
  {
   "cell_type": "code",
   "execution_count": 208,
   "metadata": {
    "colab": {
     "base_uri": "https://localhost:8080/"
    },
    "id": "TpZiTs7ai4mK",
    "outputId": "1f14ff5c-5c9b-4021-85dc-3851c7ee8b69"
   },
   "outputs": [
    {
     "name": "stdout",
     "output_type": "stream",
     "text": [
      "Epoch 1/200\n",
      "\u001b[1m141/141\u001b[0m \u001b[32m━━━━━━━━━━━━━━━━━━━━\u001b[0m\u001b[37m\u001b[0m \u001b[1m4s\u001b[0m 6ms/step - loss: 18.1304 - mae: 3.9885 - val_loss: 1.3290 - val_mae: 0.9432\n",
      "Epoch 2/200\n",
      "\u001b[1m141/141\u001b[0m \u001b[32m━━━━━━━━━━━━━━━━━━━━\u001b[0m\u001b[37m\u001b[0m \u001b[1m1s\u001b[0m 4ms/step - loss: 1.5139 - mae: 0.9932 - val_loss: 0.9235 - val_mae: 0.8020\n",
      "Epoch 3/200\n",
      "\u001b[1m141/141\u001b[0m \u001b[32m━━━━━━━━━━━━━━━━━━━━\u001b[0m\u001b[37m\u001b[0m \u001b[1m1s\u001b[0m 3ms/step - loss: 1.0616 - mae: 0.8235 - val_loss: 0.8513 - val_mae: 0.7535\n",
      "Epoch 4/200\n",
      "\u001b[1m141/141\u001b[0m \u001b[32m━━━━━━━━━━━━━━━━━━━━\u001b[0m\u001b[37m\u001b[0m \u001b[1m1s\u001b[0m 4ms/step - loss: 0.8745 - mae: 0.7671 - val_loss: 0.7304 - val_mae: 0.7186\n",
      "Epoch 5/200\n",
      "\u001b[1m141/141\u001b[0m \u001b[32m━━━━━━━━━━━━━━━━━━━━\u001b[0m\u001b[37m\u001b[0m \u001b[1m1s\u001b[0m 4ms/step - loss: 0.8716 - mae: 0.7600 - val_loss: 0.6608 - val_mae: 0.6914\n",
      "Epoch 6/200\n",
      "\u001b[1m141/141\u001b[0m \u001b[32m━━━━━━━━━━━━━━━━━━━━\u001b[0m\u001b[37m\u001b[0m \u001b[1m1s\u001b[0m 4ms/step - loss: 0.7186 - mae: 0.7075 - val_loss: 0.6402 - val_mae: 0.6818\n",
      "Epoch 7/200\n",
      "\u001b[1m141/141\u001b[0m \u001b[32m━━━━━━━━━━━━━━━━━━━━\u001b[0m\u001b[37m\u001b[0m \u001b[1m1s\u001b[0m 3ms/step - loss: 0.7391 - mae: 0.7193 - val_loss: 0.6208 - val_mae: 0.6733\n",
      "Epoch 8/200\n",
      "\u001b[1m141/141\u001b[0m \u001b[32m━━━━━━━━━━━━━━━━━━━━\u001b[0m\u001b[37m\u001b[0m \u001b[1m1s\u001b[0m 3ms/step - loss: 0.6498 - mae: 0.6640 - val_loss: 0.5728 - val_mae: 0.6324\n",
      "Epoch 9/200\n",
      "\u001b[1m141/141\u001b[0m \u001b[32m━━━━━━━━━━━━━━━━━━━━\u001b[0m\u001b[37m\u001b[0m \u001b[1m1s\u001b[0m 3ms/step - loss: 0.5874 - mae: 0.6180 - val_loss: 0.6101 - val_mae: 0.6475\n",
      "Epoch 10/200\n",
      "\u001b[1m141/141\u001b[0m \u001b[32m━━━━━━━━━━━━━━━━━━━━\u001b[0m\u001b[37m\u001b[0m \u001b[1m1s\u001b[0m 4ms/step - loss: 0.6942 - mae: 0.6636 - val_loss: 0.5271 - val_mae: 0.5884\n",
      "Epoch 11/200\n",
      "\u001b[1m141/141\u001b[0m \u001b[32m━━━━━━━━━━━━━━━━━━━━\u001b[0m\u001b[37m\u001b[0m \u001b[1m1s\u001b[0m 4ms/step - loss: 0.5805 - mae: 0.6040 - val_loss: 0.5795 - val_mae: 0.6254\n",
      "Epoch 12/200\n",
      "\u001b[1m141/141\u001b[0m \u001b[32m━━━━━━━━━━━━━━━━━━━━\u001b[0m\u001b[37m\u001b[0m \u001b[1m1s\u001b[0m 3ms/step - loss: 0.5847 - mae: 0.6082 - val_loss: 0.5228 - val_mae: 0.5890\n",
      "Epoch 13/200\n",
      "\u001b[1m141/141\u001b[0m \u001b[32m━━━━━━━━━━━━━━━━━━━━\u001b[0m\u001b[37m\u001b[0m \u001b[1m1s\u001b[0m 3ms/step - loss: 0.5800 - mae: 0.5959 - val_loss: 0.4926 - val_mae: 0.5809\n",
      "Epoch 14/200\n",
      "\u001b[1m141/141\u001b[0m \u001b[32m━━━━━━━━━━━━━━━━━━━━\u001b[0m\u001b[37m\u001b[0m \u001b[1m1s\u001b[0m 4ms/step - loss: 0.5228 - mae: 0.5820 - val_loss: 0.4533 - val_mae: 0.5632\n",
      "Epoch 15/200\n",
      "\u001b[1m141/141\u001b[0m \u001b[32m━━━━━━━━━━━━━━━━━━━━\u001b[0m\u001b[37m\u001b[0m \u001b[1m1s\u001b[0m 4ms/step - loss: 0.5168 - mae: 0.5659 - val_loss: 0.4726 - val_mae: 0.5596\n",
      "Epoch 16/200\n",
      "\u001b[1m141/141\u001b[0m \u001b[32m━━━━━━━━━━━━━━━━━━━━\u001b[0m\u001b[37m\u001b[0m \u001b[1m1s\u001b[0m 3ms/step - loss: 0.5705 - mae: 0.5818 - val_loss: 0.4704 - val_mae: 0.5559\n",
      "Epoch 17/200\n",
      "\u001b[1m141/141\u001b[0m \u001b[32m━━━━━━━━━━━━━━━━━━━━\u001b[0m\u001b[37m\u001b[0m \u001b[1m1s\u001b[0m 3ms/step - loss: 0.5770 - mae: 0.5858 - val_loss: 0.5178 - val_mae: 0.5989\n",
      "Epoch 18/200\n",
      "\u001b[1m141/141\u001b[0m \u001b[32m━━━━━━━━━━━━━━━━━━━━\u001b[0m\u001b[37m\u001b[0m \u001b[1m1s\u001b[0m 4ms/step - loss: 0.5324 - mae: 0.5521 - val_loss: 0.5333 - val_mae: 0.5975\n",
      "Epoch 19/200\n",
      "\u001b[1m141/141\u001b[0m \u001b[32m━━━━━━━━━━━━━━━━━━━━\u001b[0m\u001b[37m\u001b[0m \u001b[1m1s\u001b[0m 3ms/step - loss: 0.5135 - mae: 0.5532 - val_loss: 0.5400 - val_mae: 0.5953\n",
      "Epoch 20/200\n",
      "\u001b[1m141/141\u001b[0m \u001b[32m━━━━━━━━━━━━━━━━━━━━\u001b[0m\u001b[37m\u001b[0m \u001b[1m1s\u001b[0m 4ms/step - loss: 0.5648 - mae: 0.5664 - val_loss: 0.5492 - val_mae: 0.6097\n",
      "Epoch 21/200\n",
      "\u001b[1m141/141\u001b[0m \u001b[32m━━━━━━━━━━━━━━━━━━━━\u001b[0m\u001b[37m\u001b[0m \u001b[1m1s\u001b[0m 4ms/step - loss: 0.5699 - mae: 0.5639 - val_loss: 0.4691 - val_mae: 0.5479\n",
      "Epoch 22/200\n",
      "\u001b[1m141/141\u001b[0m \u001b[32m━━━━━━━━━━━━━━━━━━━━\u001b[0m\u001b[37m\u001b[0m \u001b[1m1s\u001b[0m 3ms/step - loss: 0.5481 - mae: 0.5475 - val_loss: 0.5040 - val_mae: 0.5816\n",
      "Epoch 23/200\n",
      "\u001b[1m141/141\u001b[0m \u001b[32m━━━━━━━━━━━━━━━━━━━━\u001b[0m\u001b[37m\u001b[0m \u001b[1m1s\u001b[0m 4ms/step - loss: 0.5309 - mae: 0.5565 - val_loss: 0.4943 - val_mae: 0.5473\n",
      "Epoch 24/200\n",
      "\u001b[1m141/141\u001b[0m \u001b[32m━━━━━━━━━━━━━━━━━━━━\u001b[0m\u001b[37m\u001b[0m \u001b[1m1s\u001b[0m 4ms/step - loss: 0.6326 - mae: 0.5885 - val_loss: 0.4595 - val_mae: 0.5453\n",
      "Epoch 25/200\n",
      "\u001b[1m141/141\u001b[0m \u001b[32m━━━━━━━━━━━━━━━━━━━━\u001b[0m\u001b[37m\u001b[0m \u001b[1m1s\u001b[0m 4ms/step - loss: 0.4630 - mae: 0.5227 - val_loss: 0.4625 - val_mae: 0.5532\n",
      "Epoch 26/200\n",
      "\u001b[1m141/141\u001b[0m \u001b[32m━━━━━━━━━━━━━━━━━━━━\u001b[0m\u001b[37m\u001b[0m \u001b[1m1s\u001b[0m 4ms/step - loss: 0.4733 - mae: 0.5390 - val_loss: 0.4927 - val_mae: 0.5484\n",
      "Epoch 27/200\n",
      "\u001b[1m141/141\u001b[0m \u001b[32m━━━━━━━━━━━━━━━━━━━━\u001b[0m\u001b[37m\u001b[0m \u001b[1m1s\u001b[0m 4ms/step - loss: 0.4843 - mae: 0.5400 - val_loss: 0.4829 - val_mae: 0.5507\n",
      "Epoch 28/200\n",
      "\u001b[1m141/141\u001b[0m \u001b[32m━━━━━━━━━━━━━━━━━━━━\u001b[0m\u001b[37m\u001b[0m \u001b[1m1s\u001b[0m 3ms/step - loss: 0.5496 - mae: 0.5506 - val_loss: 0.4891 - val_mae: 0.5478\n",
      "Epoch 29/200\n",
      "\u001b[1m141/141\u001b[0m \u001b[32m━━━━━━━━━━━━━━━━━━━━\u001b[0m\u001b[37m\u001b[0m \u001b[1m1s\u001b[0m 4ms/step - loss: 0.6205 - mae: 0.5595 - val_loss: 0.4314 - val_mae: 0.5196\n",
      "Epoch 30/200\n",
      "\u001b[1m141/141\u001b[0m \u001b[32m━━━━━━━━━━━━━━━━━━━━\u001b[0m\u001b[37m\u001b[0m \u001b[1m1s\u001b[0m 4ms/step - loss: 0.4901 - mae: 0.5278 - val_loss: 0.4461 - val_mae: 0.5319\n",
      "Epoch 31/200\n",
      "\u001b[1m141/141\u001b[0m \u001b[32m━━━━━━━━━━━━━━━━━━━━\u001b[0m\u001b[37m\u001b[0m \u001b[1m1s\u001b[0m 3ms/step - loss: 0.5856 - mae: 0.5773 - val_loss: 0.4518 - val_mae: 0.5275\n",
      "Epoch 32/200\n",
      "\u001b[1m141/141\u001b[0m \u001b[32m━━━━━━━━━━━━━━━━━━━━\u001b[0m\u001b[37m\u001b[0m \u001b[1m1s\u001b[0m 4ms/step - loss: 0.5318 - mae: 0.5272 - val_loss: 0.5001 - val_mae: 0.5566\n",
      "Epoch 33/200\n",
      "\u001b[1m141/141\u001b[0m \u001b[32m━━━━━━━━━━━━━━━━━━━━\u001b[0m\u001b[37m\u001b[0m \u001b[1m1s\u001b[0m 3ms/step - loss: 0.5621 - mae: 0.5382 - val_loss: 0.4868 - val_mae: 0.5633\n",
      "Epoch 34/200\n",
      "\u001b[1m141/141\u001b[0m \u001b[32m━━━━━━━━━━━━━━━━━━━━\u001b[0m\u001b[37m\u001b[0m \u001b[1m1s\u001b[0m 3ms/step - loss: 0.5813 - mae: 0.5685 - val_loss: 0.5089 - val_mae: 0.5782\n",
      "Epoch 35/200\n",
      "\u001b[1m141/141\u001b[0m \u001b[32m━━━━━━━━━━━━━━━━━━━━\u001b[0m\u001b[37m\u001b[0m \u001b[1m1s\u001b[0m 4ms/step - loss: 0.5398 - mae: 0.5276 - val_loss: 0.5195 - val_mae: 0.5772\n",
      "Epoch 36/200\n",
      "\u001b[1m141/141\u001b[0m \u001b[32m━━━━━━━━━━━━━━━━━━━━\u001b[0m\u001b[37m\u001b[0m \u001b[1m1s\u001b[0m 3ms/step - loss: 0.4918 - mae: 0.5293 - val_loss: 0.4756 - val_mae: 0.5627\n",
      "Epoch 37/200\n",
      "\u001b[1m141/141\u001b[0m \u001b[32m━━━━━━━━━━━━━━━━━━━━\u001b[0m\u001b[37m\u001b[0m \u001b[1m1s\u001b[0m 3ms/step - loss: 0.4697 - mae: 0.5298 - val_loss: 0.4703 - val_mae: 0.5496\n",
      "Epoch 38/200\n",
      "\u001b[1m141/141\u001b[0m \u001b[32m━━━━━━━━━━━━━━━━━━━━\u001b[0m\u001b[37m\u001b[0m \u001b[1m1s\u001b[0m 3ms/step - loss: 0.5416 - mae: 0.5375 - val_loss: 0.5084 - val_mae: 0.5685\n",
      "Epoch 39/200\n",
      "\u001b[1m141/141\u001b[0m \u001b[32m━━━━━━━━━━━━━━━━━━━━\u001b[0m\u001b[37m\u001b[0m \u001b[1m1s\u001b[0m 3ms/step - loss: 0.5227 - mae: 0.5375 - val_loss: 0.5244 - val_mae: 0.5716\n",
      "Epoch 40/200\n",
      "\u001b[1m141/141\u001b[0m \u001b[32m━━━━━━━━━━━━━━━━━━━━\u001b[0m\u001b[37m\u001b[0m \u001b[1m0s\u001b[0m 3ms/step - loss: 0.4578 - mae: 0.5026 - val_loss: 0.4991 - val_mae: 0.5616\n",
      "Epoch 41/200\n",
      "\u001b[1m141/141\u001b[0m \u001b[32m━━━━━━━━━━━━━━━━━━━━\u001b[0m\u001b[37m\u001b[0m \u001b[1m0s\u001b[0m 3ms/step - loss: 0.4787 - mae: 0.5232 - val_loss: 0.4971 - val_mae: 0.5576\n",
      "Epoch 42/200\n",
      "\u001b[1m141/141\u001b[0m \u001b[32m━━━━━━━━━━━━━━━━━━━━\u001b[0m\u001b[37m\u001b[0m \u001b[1m1s\u001b[0m 3ms/step - loss: 0.5085 - mae: 0.5214 - val_loss: 0.4669 - val_mae: 0.5418\n",
      "Epoch 43/200\n",
      "\u001b[1m141/141\u001b[0m \u001b[32m━━━━━━━━━━━━━━━━━━━━\u001b[0m\u001b[37m\u001b[0m \u001b[1m1s\u001b[0m 3ms/step - loss: 0.5834 - mae: 0.5517 - val_loss: 0.4679 - val_mae: 0.5374\n",
      "Epoch 44/200\n",
      "\u001b[1m141/141\u001b[0m \u001b[32m━━━━━━━━━━━━━━━━━━━━\u001b[0m\u001b[37m\u001b[0m \u001b[1m1s\u001b[0m 4ms/step - loss: 0.4430 - mae: 0.4936 - val_loss: 0.4490 - val_mae: 0.5421\n",
      "Epoch 45/200\n",
      "\u001b[1m141/141\u001b[0m \u001b[32m━━━━━━━━━━━━━━━━━━━━\u001b[0m\u001b[37m\u001b[0m \u001b[1m1s\u001b[0m 4ms/step - loss: 0.4816 - mae: 0.5269 - val_loss: 0.4682 - val_mae: 0.5459\n",
      "Epoch 46/200\n",
      "\u001b[1m141/141\u001b[0m \u001b[32m━━━━━━━━━━━━━━━━━━━━\u001b[0m\u001b[37m\u001b[0m \u001b[1m1s\u001b[0m 3ms/step - loss: 0.4800 - mae: 0.5086 - val_loss: 0.4672 - val_mae: 0.5463\n",
      "Epoch 47/200\n",
      "\u001b[1m141/141\u001b[0m \u001b[32m━━━━━━━━━━━━━━━━━━━━\u001b[0m\u001b[37m\u001b[0m \u001b[1m1s\u001b[0m 3ms/step - loss: 0.4463 - mae: 0.5031 - val_loss: 0.4756 - val_mae: 0.5591\n",
      "Epoch 48/200\n",
      "\u001b[1m141/141\u001b[0m \u001b[32m━━━━━━━━━━━━━━━━━━━━\u001b[0m\u001b[37m\u001b[0m \u001b[1m1s\u001b[0m 3ms/step - loss: 0.4371 - mae: 0.5103 - val_loss: 0.4666 - val_mae: 0.5376\n",
      "Epoch 49/200\n",
      "\u001b[1m141/141\u001b[0m \u001b[32m━━━━━━━━━━━━━━━━━━━━\u001b[0m\u001b[37m\u001b[0m \u001b[1m1s\u001b[0m 3ms/step - loss: 0.4520 - mae: 0.5113 - val_loss: 0.5048 - val_mae: 0.5624\n",
      "Epoch 50/200\n",
      "\u001b[1m141/141\u001b[0m \u001b[32m━━━━━━━━━━━━━━━━━━━━\u001b[0m\u001b[37m\u001b[0m \u001b[1m1s\u001b[0m 3ms/step - loss: 0.5345 - mae: 0.5331 - val_loss: 0.4900 - val_mae: 0.5558\n",
      "Epoch 51/200\n",
      "\u001b[1m141/141\u001b[0m \u001b[32m━━━━━━━━━━━━━━━━━━━━\u001b[0m\u001b[37m\u001b[0m \u001b[1m1s\u001b[0m 3ms/step - loss: 0.5492 - mae: 0.5533 - val_loss: 0.4414 - val_mae: 0.5126\n",
      "Epoch 52/200\n",
      "\u001b[1m141/141\u001b[0m \u001b[32m━━━━━━━━━━━━━━━━━━━━\u001b[0m\u001b[37m\u001b[0m \u001b[1m1s\u001b[0m 3ms/step - loss: 0.5933 - mae: 0.5496 - val_loss: 0.4961 - val_mae: 0.5546\n",
      "Epoch 53/200\n",
      "\u001b[1m141/141\u001b[0m \u001b[32m━━━━━━━━━━━━━━━━━━━━\u001b[0m\u001b[37m\u001b[0m \u001b[1m1s\u001b[0m 3ms/step - loss: 0.5451 - mae: 0.5377 - val_loss: 0.5306 - val_mae: 0.5865\n",
      "Epoch 54/200\n",
      "\u001b[1m141/141\u001b[0m \u001b[32m━━━━━━━━━━━━━━━━━━━━\u001b[0m\u001b[37m\u001b[0m \u001b[1m1s\u001b[0m 4ms/step - loss: 0.5348 - mae: 0.5329 - val_loss: 0.4476 - val_mae: 0.5386\n",
      "Epoch 55/200\n",
      "\u001b[1m141/141\u001b[0m \u001b[32m━━━━━━━━━━━━━━━━━━━━\u001b[0m\u001b[37m\u001b[0m \u001b[1m1s\u001b[0m 4ms/step - loss: 0.4927 - mae: 0.5191 - val_loss: 0.5409 - val_mae: 0.5840\n",
      "Epoch 56/200\n",
      "\u001b[1m141/141\u001b[0m \u001b[32m━━━━━━━━━━━━━━━━━━━━\u001b[0m\u001b[37m\u001b[0m \u001b[1m1s\u001b[0m 4ms/step - loss: 0.5019 - mae: 0.5064 - val_loss: 0.4617 - val_mae: 0.5369\n",
      "Epoch 57/200\n",
      "\u001b[1m141/141\u001b[0m \u001b[32m━━━━━━━━━━━━━━━━━━━━\u001b[0m\u001b[37m\u001b[0m \u001b[1m1s\u001b[0m 4ms/step - loss: 0.4392 - mae: 0.5048 - val_loss: 0.4751 - val_mae: 0.5495\n",
      "Epoch 58/200\n",
      "\u001b[1m141/141\u001b[0m \u001b[32m━━━━━━━━━━━━━━━━━━━━\u001b[0m\u001b[37m\u001b[0m \u001b[1m1s\u001b[0m 3ms/step - loss: 0.4403 - mae: 0.4949 - val_loss: 0.4347 - val_mae: 0.5284\n",
      "Epoch 59/200\n",
      "\u001b[1m141/141\u001b[0m \u001b[32m━━━━━━━━━━━━━━━━━━━━\u001b[0m\u001b[37m\u001b[0m \u001b[1m1s\u001b[0m 4ms/step - loss: 0.4465 - mae: 0.4934 - val_loss: 0.4862 - val_mae: 0.5528\n",
      "Epoch 60/200\n",
      "\u001b[1m141/141\u001b[0m \u001b[32m━━━━━━━━━━━━━━━━━━━━\u001b[0m\u001b[37m\u001b[0m \u001b[1m1s\u001b[0m 3ms/step - loss: 0.5173 - mae: 0.5234 - val_loss: 0.4352 - val_mae: 0.5080\n",
      "Epoch 61/200\n",
      "\u001b[1m141/141\u001b[0m \u001b[32m━━━━━━━━━━━━━━━━━━━━\u001b[0m\u001b[37m\u001b[0m \u001b[1m1s\u001b[0m 3ms/step - loss: 0.4815 - mae: 0.5117 - val_loss: 0.4719 - val_mae: 0.5401\n",
      "Epoch 62/200\n",
      "\u001b[1m141/141\u001b[0m \u001b[32m━━━━━━━━━━━━━━━━━━━━\u001b[0m\u001b[37m\u001b[0m \u001b[1m1s\u001b[0m 3ms/step - loss: 0.4696 - mae: 0.4881 - val_loss: 0.4518 - val_mae: 0.5144\n",
      "Epoch 63/200\n",
      "\u001b[1m141/141\u001b[0m \u001b[32m━━━━━━━━━━━━━━━━━━━━\u001b[0m\u001b[37m\u001b[0m \u001b[1m1s\u001b[0m 4ms/step - loss: 0.4988 - mae: 0.5206 - val_loss: 0.4442 - val_mae: 0.5329\n",
      "Epoch 64/200\n",
      "\u001b[1m141/141\u001b[0m \u001b[32m━━━━━━━━━━━━━━━━━━━━\u001b[0m\u001b[37m\u001b[0m \u001b[1m1s\u001b[0m 4ms/step - loss: 0.4417 - mae: 0.5019 - val_loss: 0.4980 - val_mae: 0.5613\n",
      "Epoch 65/200\n",
      "\u001b[1m141/141\u001b[0m \u001b[32m━━━━━━━━━━━━━━━━━━━━\u001b[0m\u001b[37m\u001b[0m \u001b[1m1s\u001b[0m 3ms/step - loss: 0.5106 - mae: 0.5247 - val_loss: 0.5313 - val_mae: 0.5798\n",
      "Epoch 66/200\n",
      "\u001b[1m141/141\u001b[0m \u001b[32m━━━━━━━━━━━━━━━━━━━━\u001b[0m\u001b[37m\u001b[0m \u001b[1m1s\u001b[0m 3ms/step - loss: 0.5480 - mae: 0.5316 - val_loss: 0.4204 - val_mae: 0.5055\n",
      "Epoch 67/200\n",
      "\u001b[1m141/141\u001b[0m \u001b[32m━━━━━━━━━━━━━━━━━━━━\u001b[0m\u001b[37m\u001b[0m \u001b[1m1s\u001b[0m 3ms/step - loss: 0.4906 - mae: 0.5079 - val_loss: 0.4253 - val_mae: 0.5172\n",
      "Epoch 68/200\n",
      "\u001b[1m141/141\u001b[0m \u001b[32m━━━━━━━━━━━━━━━━━━━━\u001b[0m\u001b[37m\u001b[0m \u001b[1m1s\u001b[0m 3ms/step - loss: 0.4779 - mae: 0.5078 - val_loss: 0.3990 - val_mae: 0.4898\n",
      "Epoch 69/200\n",
      "\u001b[1m141/141\u001b[0m \u001b[32m━━━━━━━━━━━━━━━━━━━━\u001b[0m\u001b[37m\u001b[0m \u001b[1m1s\u001b[0m 4ms/step - loss: 0.5335 - mae: 0.5253 - val_loss: 0.4214 - val_mae: 0.5089\n",
      "Epoch 70/200\n",
      "\u001b[1m141/141\u001b[0m \u001b[32m━━━━━━━━━━━━━━━━━━━━\u001b[0m\u001b[37m\u001b[0m \u001b[1m1s\u001b[0m 4ms/step - loss: 0.4828 - mae: 0.5105 - val_loss: 0.4733 - val_mae: 0.5499\n",
      "Epoch 71/200\n",
      "\u001b[1m141/141\u001b[0m \u001b[32m━━━━━━━━━━━━━━━━━━━━\u001b[0m\u001b[37m\u001b[0m \u001b[1m1s\u001b[0m 3ms/step - loss: 0.4252 - mae: 0.4866 - val_loss: 0.4591 - val_mae: 0.5441\n",
      "Epoch 72/200\n",
      "\u001b[1m141/141\u001b[0m \u001b[32m━━━━━━━━━━━━━━━━━━━━\u001b[0m\u001b[37m\u001b[0m \u001b[1m1s\u001b[0m 4ms/step - loss: 0.5099 - mae: 0.5252 - val_loss: 0.4265 - val_mae: 0.5116\n",
      "Epoch 73/200\n",
      "\u001b[1m141/141\u001b[0m \u001b[32m━━━━━━━━━━━━━━━━━━━━\u001b[0m\u001b[37m\u001b[0m \u001b[1m1s\u001b[0m 4ms/step - loss: 0.4995 - mae: 0.5262 - val_loss: 0.4670 - val_mae: 0.5212\n",
      "Epoch 74/200\n",
      "\u001b[1m141/141\u001b[0m \u001b[32m━━━━━━━━━━━━━━━━━━━━\u001b[0m\u001b[37m\u001b[0m \u001b[1m1s\u001b[0m 3ms/step - loss: 0.4134 - mae: 0.4716 - val_loss: 0.4613 - val_mae: 0.5272\n",
      "Epoch 75/200\n",
      "\u001b[1m141/141\u001b[0m \u001b[32m━━━━━━━━━━━━━━━━━━━━\u001b[0m\u001b[37m\u001b[0m \u001b[1m1s\u001b[0m 4ms/step - loss: 0.4656 - mae: 0.4951 - val_loss: 0.4575 - val_mae: 0.5411\n",
      "Epoch 76/200\n",
      "\u001b[1m141/141\u001b[0m \u001b[32m━━━━━━━━━━━━━━━━━━━━\u001b[0m\u001b[37m\u001b[0m \u001b[1m1s\u001b[0m 3ms/step - loss: 0.4803 - mae: 0.5233 - val_loss: 0.4456 - val_mae: 0.5316\n",
      "Epoch 77/200\n",
      "\u001b[1m141/141\u001b[0m \u001b[32m━━━━━━━━━━━━━━━━━━━━\u001b[0m\u001b[37m\u001b[0m \u001b[1m1s\u001b[0m 3ms/step - loss: 0.4376 - mae: 0.4939 - val_loss: 0.4694 - val_mae: 0.5425\n",
      "Epoch 78/200\n",
      "\u001b[1m141/141\u001b[0m \u001b[32m━━━━━━━━━━━━━━━━━━━━\u001b[0m\u001b[37m\u001b[0m \u001b[1m1s\u001b[0m 4ms/step - loss: 0.5257 - mae: 0.5291 - val_loss: 0.4426 - val_mae: 0.5257\n",
      "Epoch 79/200\n",
      "\u001b[1m141/141\u001b[0m \u001b[32m━━━━━━━━━━━━━━━━━━━━\u001b[0m\u001b[37m\u001b[0m \u001b[1m1s\u001b[0m 4ms/step - loss: 0.4570 - mae: 0.4934 - val_loss: 0.4004 - val_mae: 0.5063\n",
      "Epoch 80/200\n",
      "\u001b[1m141/141\u001b[0m \u001b[32m━━━━━━━━━━━━━━━━━━━━\u001b[0m\u001b[37m\u001b[0m \u001b[1m1s\u001b[0m 3ms/step - loss: 0.5285 - mae: 0.5213 - val_loss: 0.4583 - val_mae: 0.5293\n",
      "Epoch 81/200\n",
      "\u001b[1m141/141\u001b[0m \u001b[32m━━━━━━━━━━━━━━━━━━━━\u001b[0m\u001b[37m\u001b[0m \u001b[1m1s\u001b[0m 4ms/step - loss: 0.4794 - mae: 0.5081 - val_loss: 0.4751 - val_mae: 0.5353\n",
      "Epoch 82/200\n",
      "\u001b[1m141/141\u001b[0m \u001b[32m━━━━━━━━━━━━━━━━━━━━\u001b[0m\u001b[37m\u001b[0m \u001b[1m1s\u001b[0m 4ms/step - loss: 0.5124 - mae: 0.5260 - val_loss: 0.4552 - val_mae: 0.5192\n",
      "Epoch 83/200\n",
      "\u001b[1m141/141\u001b[0m \u001b[32m━━━━━━━━━━━━━━━━━━━━\u001b[0m\u001b[37m\u001b[0m \u001b[1m1s\u001b[0m 3ms/step - loss: 0.4192 - mae: 0.4741 - val_loss: 0.4499 - val_mae: 0.5286\n",
      "Epoch 84/200\n",
      "\u001b[1m141/141\u001b[0m \u001b[32m━━━━━━━━━━━━━━━━━━━━\u001b[0m\u001b[37m\u001b[0m \u001b[1m1s\u001b[0m 3ms/step - loss: 0.5161 - mae: 0.5110 - val_loss: 0.4176 - val_mae: 0.5026\n",
      "Epoch 85/200\n",
      "\u001b[1m141/141\u001b[0m \u001b[32m━━━━━━━━━━━━━━━━━━━━\u001b[0m\u001b[37m\u001b[0m \u001b[1m1s\u001b[0m 3ms/step - loss: 0.4609 - mae: 0.4956 - val_loss: 0.4255 - val_mae: 0.5044\n",
      "Epoch 86/200\n",
      "\u001b[1m141/141\u001b[0m \u001b[32m━━━━━━━━━━━━━━━━━━━━\u001b[0m\u001b[37m\u001b[0m \u001b[1m1s\u001b[0m 3ms/step - loss: 0.5919 - mae: 0.5613 - val_loss: 0.4559 - val_mae: 0.5387\n",
      "Epoch 87/200\n",
      "\u001b[1m141/141\u001b[0m \u001b[32m━━━━━━━━━━━━━━━━━━━━\u001b[0m\u001b[37m\u001b[0m \u001b[1m1s\u001b[0m 3ms/step - loss: 0.4799 - mae: 0.5088 - val_loss: 0.4406 - val_mae: 0.5262\n",
      "Epoch 88/200\n",
      "\u001b[1m141/141\u001b[0m \u001b[32m━━━━━━━━━━━━━━━━━━━━\u001b[0m\u001b[37m\u001b[0m \u001b[1m1s\u001b[0m 3ms/step - loss: 0.4724 - mae: 0.5079 - val_loss: 0.4088 - val_mae: 0.4925\n",
      "Epoch 89/200\n",
      "\u001b[1m141/141\u001b[0m \u001b[32m━━━━━━━━━━━━━━━━━━━━\u001b[0m\u001b[37m\u001b[0m \u001b[1m1s\u001b[0m 3ms/step - loss: 0.4327 - mae: 0.5044 - val_loss: 0.4150 - val_mae: 0.5132\n",
      "Epoch 90/200\n",
      "\u001b[1m141/141\u001b[0m \u001b[32m━━━━━━━━━━━━━━━━━━━━\u001b[0m\u001b[37m\u001b[0m \u001b[1m1s\u001b[0m 4ms/step - loss: 0.4690 - mae: 0.5213 - val_loss: 0.4268 - val_mae: 0.5231\n",
      "Epoch 91/200\n",
      "\u001b[1m141/141\u001b[0m \u001b[32m━━━━━━━━━━━━━━━━━━━━\u001b[0m\u001b[37m\u001b[0m \u001b[1m1s\u001b[0m 4ms/step - loss: 0.4663 - mae: 0.5050 - val_loss: 0.4264 - val_mae: 0.5211\n",
      "Epoch 92/200\n",
      "\u001b[1m141/141\u001b[0m \u001b[32m━━━━━━━━━━━━━━━━━━━━\u001b[0m\u001b[37m\u001b[0m \u001b[1m1s\u001b[0m 4ms/step - loss: 0.4335 - mae: 0.4888 - val_loss: 0.4245 - val_mae: 0.5097\n",
      "Epoch 93/200\n",
      "\u001b[1m141/141\u001b[0m \u001b[32m━━━━━━━━━━━━━━━━━━━━\u001b[0m\u001b[37m\u001b[0m \u001b[1m1s\u001b[0m 4ms/step - loss: 0.4915 - mae: 0.5198 - val_loss: 0.4996 - val_mae: 0.5308\n",
      "Epoch 94/200\n",
      "\u001b[1m141/141\u001b[0m \u001b[32m━━━━━━━━━━━━━━━━━━━━\u001b[0m\u001b[37m\u001b[0m \u001b[1m1s\u001b[0m 4ms/step - loss: 0.4712 - mae: 0.5017 - val_loss: 0.4922 - val_mae: 0.5598\n",
      "Epoch 95/200\n",
      "\u001b[1m141/141\u001b[0m \u001b[32m━━━━━━━━━━━━━━━━━━━━\u001b[0m\u001b[37m\u001b[0m \u001b[1m1s\u001b[0m 4ms/step - loss: 0.5130 - mae: 0.5274 - val_loss: 0.4522 - val_mae: 0.5180\n",
      "Epoch 96/200\n",
      "\u001b[1m141/141\u001b[0m \u001b[32m━━━━━━━━━━━━━━━━━━━━\u001b[0m\u001b[37m\u001b[0m \u001b[1m1s\u001b[0m 4ms/step - loss: 0.5633 - mae: 0.5188 - val_loss: 0.4046 - val_mae: 0.4921\n",
      "Epoch 97/200\n",
      "\u001b[1m141/141\u001b[0m \u001b[32m━━━━━━━━━━━━━━━━━━━━\u001b[0m\u001b[37m\u001b[0m \u001b[1m1s\u001b[0m 4ms/step - loss: 0.5133 - mae: 0.5240 - val_loss: 0.4232 - val_mae: 0.5165\n",
      "Epoch 98/200\n",
      "\u001b[1m141/141\u001b[0m \u001b[32m━━━━━━━━━━━━━━━━━━━━\u001b[0m\u001b[37m\u001b[0m \u001b[1m1s\u001b[0m 4ms/step - loss: 0.4591 - mae: 0.4953 - val_loss: 0.4532 - val_mae: 0.5319\n",
      "Epoch 99/200\n",
      "\u001b[1m141/141\u001b[0m \u001b[32m━━━━━━━━━━━━━━━━━━━━\u001b[0m\u001b[37m\u001b[0m \u001b[1m1s\u001b[0m 4ms/step - loss: 0.3756 - mae: 0.4584 - val_loss: 0.4797 - val_mae: 0.5553\n",
      "Epoch 100/200\n",
      "\u001b[1m141/141\u001b[0m \u001b[32m━━━━━━━━━━━━━━━━━━━━\u001b[0m\u001b[37m\u001b[0m \u001b[1m1s\u001b[0m 4ms/step - loss: 0.4308 - mae: 0.4775 - val_loss: 0.4829 - val_mae: 0.5264\n",
      "Epoch 101/200\n",
      "\u001b[1m141/141\u001b[0m \u001b[32m━━━━━━━━━━━━━━━━━━━━\u001b[0m\u001b[37m\u001b[0m \u001b[1m1s\u001b[0m 4ms/step - loss: 0.5112 - mae: 0.5149 - val_loss: 0.4482 - val_mae: 0.5148\n",
      "Epoch 102/200\n",
      "\u001b[1m141/141\u001b[0m \u001b[32m━━━━━━━━━━━━━━━━━━━━\u001b[0m\u001b[37m\u001b[0m \u001b[1m1s\u001b[0m 4ms/step - loss: 0.4637 - mae: 0.4944 - val_loss: 0.4460 - val_mae: 0.5038\n",
      "Epoch 103/200\n",
      "\u001b[1m141/141\u001b[0m \u001b[32m━━━━━━━━━━━━━━━━━━━━\u001b[0m\u001b[37m\u001b[0m \u001b[1m1s\u001b[0m 4ms/step - loss: 0.4106 - mae: 0.4617 - val_loss: 0.3995 - val_mae: 0.4883\n",
      "Epoch 104/200\n",
      "\u001b[1m141/141\u001b[0m \u001b[32m━━━━━━━━━━━━━━━━━━━━\u001b[0m\u001b[37m\u001b[0m \u001b[1m1s\u001b[0m 4ms/step - loss: 0.4430 - mae: 0.4800 - val_loss: 0.4441 - val_mae: 0.5234\n",
      "Epoch 105/200\n",
      "\u001b[1m141/141\u001b[0m \u001b[32m━━━━━━━━━━━━━━━━━━━━\u001b[0m\u001b[37m\u001b[0m \u001b[1m1s\u001b[0m 4ms/step - loss: 0.5369 - mae: 0.4972 - val_loss: 0.4289 - val_mae: 0.5015\n",
      "Epoch 106/200\n",
      "\u001b[1m141/141\u001b[0m \u001b[32m━━━━━━━━━━━━━━━━━━━━\u001b[0m\u001b[37m\u001b[0m \u001b[1m1s\u001b[0m 4ms/step - loss: 0.4227 - mae: 0.4831 - val_loss: 0.4866 - val_mae: 0.5588\n",
      "Epoch 107/200\n",
      "\u001b[1m141/141\u001b[0m \u001b[32m━━━━━━━━━━━━━━━━━━━━\u001b[0m\u001b[37m\u001b[0m \u001b[1m1s\u001b[0m 4ms/step - loss: 0.4877 - mae: 0.5117 - val_loss: 0.4512 - val_mae: 0.5391\n",
      "Epoch 108/200\n",
      "\u001b[1m141/141\u001b[0m \u001b[32m━━━━━━━━━━━━━━━━━━━━\u001b[0m\u001b[37m\u001b[0m \u001b[1m1s\u001b[0m 4ms/step - loss: 0.4678 - mae: 0.5199 - val_loss: 0.3977 - val_mae: 0.4989\n",
      "Epoch 109/200\n",
      "\u001b[1m141/141\u001b[0m \u001b[32m━━━━━━━━━━━━━━━━━━━━\u001b[0m\u001b[37m\u001b[0m \u001b[1m1s\u001b[0m 4ms/step - loss: 0.5347 - mae: 0.5276 - val_loss: 0.6215 - val_mae: 0.6109\n",
      "Epoch 110/200\n",
      "\u001b[1m141/141\u001b[0m \u001b[32m━━━━━━━━━━━━━━━━━━━━\u001b[0m\u001b[37m\u001b[0m \u001b[1m1s\u001b[0m 4ms/step - loss: 0.4858 - mae: 0.5044 - val_loss: 0.4112 - val_mae: 0.4899\n",
      "Epoch 111/200\n",
      "\u001b[1m141/141\u001b[0m \u001b[32m━━━━━━━━━━━━━━━━━━━━\u001b[0m\u001b[37m\u001b[0m \u001b[1m1s\u001b[0m 4ms/step - loss: 0.4541 - mae: 0.4935 - val_loss: 0.4053 - val_mae: 0.4991\n",
      "Epoch 112/200\n",
      "\u001b[1m141/141\u001b[0m \u001b[32m━━━━━━━━━━━━━━━━━━━━\u001b[0m\u001b[37m\u001b[0m \u001b[1m1s\u001b[0m 4ms/step - loss: 0.4671 - mae: 0.4853 - val_loss: 0.4554 - val_mae: 0.5399\n",
      "Epoch 113/200\n",
      "\u001b[1m141/141\u001b[0m \u001b[32m━━━━━━━━━━━━━━━━━━━━\u001b[0m\u001b[37m\u001b[0m \u001b[1m1s\u001b[0m 4ms/step - loss: 0.4579 - mae: 0.4950 - val_loss: 0.4875 - val_mae: 0.5396\n",
      "Epoch 114/200\n",
      "\u001b[1m141/141\u001b[0m \u001b[32m━━━━━━━━━━━━━━━━━━━━\u001b[0m\u001b[37m\u001b[0m \u001b[1m1s\u001b[0m 4ms/step - loss: 0.5160 - mae: 0.5085 - val_loss: 0.4533 - val_mae: 0.5264\n",
      "Epoch 115/200\n",
      "\u001b[1m141/141\u001b[0m \u001b[32m━━━━━━━━━━━━━━━━━━━━\u001b[0m\u001b[37m\u001b[0m \u001b[1m1s\u001b[0m 4ms/step - loss: 0.4634 - mae: 0.5055 - val_loss: 0.4029 - val_mae: 0.5044\n",
      "Epoch 116/200\n",
      "\u001b[1m141/141\u001b[0m \u001b[32m━━━━━━━━━━━━━━━━━━━━\u001b[0m\u001b[37m\u001b[0m \u001b[1m1s\u001b[0m 4ms/step - loss: 0.4942 - mae: 0.5297 - val_loss: 0.4316 - val_mae: 0.5142\n",
      "Epoch 117/200\n",
      "\u001b[1m141/141\u001b[0m \u001b[32m━━━━━━━━━━━━━━━━━━━━\u001b[0m\u001b[37m\u001b[0m \u001b[1m1s\u001b[0m 4ms/step - loss: 0.4238 - mae: 0.4787 - val_loss: 0.4883 - val_mae: 0.5322\n",
      "Epoch 118/200\n",
      "\u001b[1m141/141\u001b[0m \u001b[32m━━━━━━━━━━━━━━━━━━━━\u001b[0m\u001b[37m\u001b[0m \u001b[1m1s\u001b[0m 4ms/step - loss: 0.4196 - mae: 0.4765 - val_loss: 0.4287 - val_mae: 0.5107\n",
      "Epoch 119/200\n",
      "\u001b[1m141/141\u001b[0m \u001b[32m━━━━━━━━━━━━━━━━━━━━\u001b[0m\u001b[37m\u001b[0m \u001b[1m1s\u001b[0m 4ms/step - loss: 0.3907 - mae: 0.4721 - val_loss: 0.4287 - val_mae: 0.5103\n",
      "Epoch 120/200\n",
      "\u001b[1m141/141\u001b[0m \u001b[32m━━━━━━━━━━━━━━━━━━━━\u001b[0m\u001b[37m\u001b[0m \u001b[1m1s\u001b[0m 4ms/step - loss: 0.4375 - mae: 0.4854 - val_loss: 0.4053 - val_mae: 0.5007\n",
      "Epoch 121/200\n",
      "\u001b[1m141/141\u001b[0m \u001b[32m━━━━━━━━━━━━━━━━━━━━\u001b[0m\u001b[37m\u001b[0m \u001b[1m1s\u001b[0m 4ms/step - loss: 0.5673 - mae: 0.5262 - val_loss: 0.4270 - val_mae: 0.5115\n",
      "Epoch 122/200\n",
      "\u001b[1m141/141\u001b[0m \u001b[32m━━━━━━━━━━━━━━━━━━━━\u001b[0m\u001b[37m\u001b[0m \u001b[1m1s\u001b[0m 4ms/step - loss: 0.5103 - mae: 0.5053 - val_loss: 0.4074 - val_mae: 0.4928\n",
      "Epoch 123/200\n",
      "\u001b[1m141/141\u001b[0m \u001b[32m━━━━━━━━━━━━━━━━━━━━\u001b[0m\u001b[37m\u001b[0m \u001b[1m1s\u001b[0m 4ms/step - loss: 0.4898 - mae: 0.5172 - val_loss: 0.4570 - val_mae: 0.5112\n",
      "Epoch 124/200\n",
      "\u001b[1m141/141\u001b[0m \u001b[32m━━━━━━━━━━━━━━━━━━━━\u001b[0m\u001b[37m\u001b[0m \u001b[1m1s\u001b[0m 4ms/step - loss: 0.4901 - mae: 0.4892 - val_loss: 0.4745 - val_mae: 0.5340\n",
      "Epoch 125/200\n",
      "\u001b[1m141/141\u001b[0m \u001b[32m━━━━━━━━━━━━━━━━━━━━\u001b[0m\u001b[37m\u001b[0m \u001b[1m1s\u001b[0m 4ms/step - loss: 0.3963 - mae: 0.4642 - val_loss: 0.4650 - val_mae: 0.5323\n",
      "Epoch 126/200\n",
      "\u001b[1m141/141\u001b[0m \u001b[32m━━━━━━━━━━━━━━━━━━━━\u001b[0m\u001b[37m\u001b[0m \u001b[1m1s\u001b[0m 4ms/step - loss: 0.4508 - mae: 0.4913 - val_loss: 0.5419 - val_mae: 0.5654\n",
      "Epoch 127/200\n",
      "\u001b[1m141/141\u001b[0m \u001b[32m━━━━━━━━━━━━━━━━━━━━\u001b[0m\u001b[37m\u001b[0m \u001b[1m1s\u001b[0m 4ms/step - loss: 0.4630 - mae: 0.4868 - val_loss: 0.4103 - val_mae: 0.4847\n",
      "Epoch 128/200\n",
      "\u001b[1m141/141\u001b[0m \u001b[32m━━━━━━━━━━━━━━━━━━━━\u001b[0m\u001b[37m\u001b[0m \u001b[1m1s\u001b[0m 4ms/step - loss: 0.4705 - mae: 0.4872 - val_loss: 0.4584 - val_mae: 0.5113\n",
      "Epoch 129/200\n",
      "\u001b[1m141/141\u001b[0m \u001b[32m━━━━━━━━━━━━━━━━━━━━\u001b[0m\u001b[37m\u001b[0m \u001b[1m1s\u001b[0m 3ms/step - loss: 0.5029 - mae: 0.5012 - val_loss: 0.4919 - val_mae: 0.5347\n",
      "Epoch 130/200\n",
      "\u001b[1m141/141\u001b[0m \u001b[32m━━━━━━━━━━━━━━━━━━━━\u001b[0m\u001b[37m\u001b[0m \u001b[1m1s\u001b[0m 3ms/step - loss: 0.4170 - mae: 0.4771 - val_loss: 0.4676 - val_mae: 0.5337\n",
      "Epoch 131/200\n",
      "\u001b[1m141/141\u001b[0m \u001b[32m━━━━━━━━━━━━━━━━━━━━\u001b[0m\u001b[37m\u001b[0m \u001b[1m0s\u001b[0m 3ms/step - loss: 0.4767 - mae: 0.5073 - val_loss: 0.4332 - val_mae: 0.5354\n",
      "Epoch 132/200\n",
      "\u001b[1m141/141\u001b[0m \u001b[32m━━━━━━━━━━━━━━━━━━━━\u001b[0m\u001b[37m\u001b[0m \u001b[1m0s\u001b[0m 3ms/step - loss: 0.4415 - mae: 0.4951 - val_loss: 0.4278 - val_mae: 0.5342\n",
      "Epoch 133/200\n",
      "\u001b[1m141/141\u001b[0m \u001b[32m━━━━━━━━━━━━━━━━━━━━\u001b[0m\u001b[37m\u001b[0m \u001b[1m1s\u001b[0m 3ms/step - loss: 0.4663 - mae: 0.5038 - val_loss: 0.4110 - val_mae: 0.4996\n",
      "Epoch 134/200\n",
      "\u001b[1m141/141\u001b[0m \u001b[32m━━━━━━━━━━━━━━━━━━━━\u001b[0m\u001b[37m\u001b[0m \u001b[1m1s\u001b[0m 3ms/step - loss: 0.4713 - mae: 0.5054 - val_loss: 0.4657 - val_mae: 0.5148\n",
      "Epoch 135/200\n",
      "\u001b[1m141/141\u001b[0m \u001b[32m━━━━━━━━━━━━━━━━━━━━\u001b[0m\u001b[37m\u001b[0m \u001b[1m1s\u001b[0m 3ms/step - loss: 0.5065 - mae: 0.5181 - val_loss: 0.4060 - val_mae: 0.4951\n",
      "Epoch 136/200\n",
      "\u001b[1m141/141\u001b[0m \u001b[32m━━━━━━━━━━━━━━━━━━━━\u001b[0m\u001b[37m\u001b[0m \u001b[1m1s\u001b[0m 3ms/step - loss: 0.4620 - mae: 0.4872 - val_loss: 0.4877 - val_mae: 0.5246\n",
      "Epoch 137/200\n",
      "\u001b[1m141/141\u001b[0m \u001b[32m━━━━━━━━━━━━━━━━━━━━\u001b[0m\u001b[37m\u001b[0m \u001b[1m1s\u001b[0m 3ms/step - loss: 0.3980 - mae: 0.4573 - val_loss: 0.4240 - val_mae: 0.5008\n",
      "Epoch 138/200\n",
      "\u001b[1m141/141\u001b[0m \u001b[32m━━━━━━━━━━━━━━━━━━━━\u001b[0m\u001b[37m\u001b[0m \u001b[1m1s\u001b[0m 3ms/step - loss: 0.4059 - mae: 0.4740 - val_loss: 0.5820 - val_mae: 0.6007\n",
      "Epoch 139/200\n",
      "\u001b[1m141/141\u001b[0m \u001b[32m━━━━━━━━━━━━━━━━━━━━\u001b[0m\u001b[37m\u001b[0m \u001b[1m1s\u001b[0m 3ms/step - loss: 0.4671 - mae: 0.5043 - val_loss: 0.4154 - val_mae: 0.5180\n",
      "Epoch 140/200\n",
      "\u001b[1m141/141\u001b[0m \u001b[32m━━━━━━━━━━━━━━━━━━━━\u001b[0m\u001b[37m\u001b[0m \u001b[1m1s\u001b[0m 3ms/step - loss: 0.5077 - mae: 0.5409 - val_loss: 0.4350 - val_mae: 0.4986\n",
      "Epoch 141/200\n",
      "\u001b[1m141/141\u001b[0m \u001b[32m━━━━━━━━━━━━━━━━━━━━\u001b[0m\u001b[37m\u001b[0m \u001b[1m1s\u001b[0m 3ms/step - loss: 0.4280 - mae: 0.4700 - val_loss: 0.4249 - val_mae: 0.5074\n",
      "Epoch 142/200\n",
      "\u001b[1m141/141\u001b[0m \u001b[32m━━━━━━━━━━━━━━━━━━━━\u001b[0m\u001b[37m\u001b[0m \u001b[1m1s\u001b[0m 3ms/step - loss: 0.4390 - mae: 0.4679 - val_loss: 0.4455 - val_mae: 0.5115\n",
      "Epoch 143/200\n",
      "\u001b[1m141/141\u001b[0m \u001b[32m━━━━━━━━━━━━━━━━━━━━\u001b[0m\u001b[37m\u001b[0m \u001b[1m1s\u001b[0m 3ms/step - loss: 0.5045 - mae: 0.5112 - val_loss: 0.4018 - val_mae: 0.4860\n",
      "Epoch 144/200\n",
      "\u001b[1m141/141\u001b[0m \u001b[32m━━━━━━━━━━━━━━━━━━━━\u001b[0m\u001b[37m\u001b[0m \u001b[1m1s\u001b[0m 3ms/step - loss: 0.4591 - mae: 0.4929 - val_loss: 0.4534 - val_mae: 0.5052\n",
      "Epoch 145/200\n",
      "\u001b[1m141/141\u001b[0m \u001b[32m━━━━━━━━━━━━━━━━━━━━\u001b[0m\u001b[37m\u001b[0m \u001b[1m0s\u001b[0m 3ms/step - loss: 0.4187 - mae: 0.4749 - val_loss: 0.4696 - val_mae: 0.5421\n",
      "Epoch 146/200\n",
      "\u001b[1m141/141\u001b[0m \u001b[32m━━━━━━━━━━━━━━━━━━━━\u001b[0m\u001b[37m\u001b[0m \u001b[1m1s\u001b[0m 3ms/step - loss: 0.5031 - mae: 0.5034 - val_loss: 0.4013 - val_mae: 0.4878\n",
      "Epoch 147/200\n",
      "\u001b[1m141/141\u001b[0m \u001b[32m━━━━━━━━━━━━━━━━━━━━\u001b[0m\u001b[37m\u001b[0m \u001b[1m1s\u001b[0m 3ms/step - loss: 0.4656 - mae: 0.4905 - val_loss: 0.4451 - val_mae: 0.5048\n",
      "Epoch 148/200\n",
      "\u001b[1m141/141\u001b[0m \u001b[32m━━━━━━━━━━━━━━━━━━━━\u001b[0m\u001b[37m\u001b[0m \u001b[1m1s\u001b[0m 4ms/step - loss: 0.4271 - mae: 0.4715 - val_loss: 0.4706 - val_mae: 0.5431\n",
      "Epoch 149/200\n",
      "\u001b[1m141/141\u001b[0m \u001b[32m━━━━━━━━━━━━━━━━━━━━\u001b[0m\u001b[37m\u001b[0m \u001b[1m1s\u001b[0m 4ms/step - loss: 0.4067 - mae: 0.4811 - val_loss: 0.4088 - val_mae: 0.4947\n",
      "Epoch 150/200\n",
      "\u001b[1m141/141\u001b[0m \u001b[32m━━━━━━━━━━━━━━━━━━━━\u001b[0m\u001b[37m\u001b[0m \u001b[1m1s\u001b[0m 4ms/step - loss: 0.4412 - mae: 0.4868 - val_loss: 0.4445 - val_mae: 0.5252\n",
      "Epoch 151/200\n",
      "\u001b[1m141/141\u001b[0m \u001b[32m━━━━━━━━━━━━━━━━━━━━\u001b[0m\u001b[37m\u001b[0m \u001b[1m1s\u001b[0m 4ms/step - loss: 0.4277 - mae: 0.4598 - val_loss: 0.4619 - val_mae: 0.5282\n",
      "Epoch 152/200\n",
      "\u001b[1m141/141\u001b[0m \u001b[32m━━━━━━━━━━━━━━━━━━━━\u001b[0m\u001b[37m\u001b[0m \u001b[1m1s\u001b[0m 4ms/step - loss: 0.4053 - mae: 0.4712 - val_loss: 0.4262 - val_mae: 0.5204\n",
      "Epoch 153/200\n",
      "\u001b[1m141/141\u001b[0m \u001b[32m━━━━━━━━━━━━━━━━━━━━\u001b[0m\u001b[37m\u001b[0m \u001b[1m1s\u001b[0m 4ms/step - loss: 0.4330 - mae: 0.4796 - val_loss: 0.4274 - val_mae: 0.5180\n",
      "Epoch 154/200\n",
      "\u001b[1m141/141\u001b[0m \u001b[32m━━━━━━━━━━━━━━━━━━━━\u001b[0m\u001b[37m\u001b[0m \u001b[1m1s\u001b[0m 4ms/step - loss: 0.4516 - mae: 0.4827 - val_loss: 0.4737 - val_mae: 0.5439\n",
      "Epoch 155/200\n",
      "\u001b[1m141/141\u001b[0m \u001b[32m━━━━━━━━━━━━━━━━━━━━\u001b[0m\u001b[37m\u001b[0m \u001b[1m1s\u001b[0m 4ms/step - loss: 0.4700 - mae: 0.5004 - val_loss: 0.4824 - val_mae: 0.5295\n",
      "Epoch 156/200\n",
      "\u001b[1m141/141\u001b[0m \u001b[32m━━━━━━━━━━━━━━━━━━━━\u001b[0m\u001b[37m\u001b[0m \u001b[1m1s\u001b[0m 4ms/step - loss: 0.4863 - mae: 0.4872 - val_loss: 0.6000 - val_mae: 0.5756\n",
      "Epoch 157/200\n",
      "\u001b[1m141/141\u001b[0m \u001b[32m━━━━━━━━━━━━━━━━━━━━\u001b[0m\u001b[37m\u001b[0m \u001b[1m1s\u001b[0m 4ms/step - loss: 0.4029 - mae: 0.4831 - val_loss: 0.4309 - val_mae: 0.5177\n",
      "Epoch 158/200\n",
      "\u001b[1m141/141\u001b[0m \u001b[32m━━━━━━━━━━━━━━━━━━━━\u001b[0m\u001b[37m\u001b[0m \u001b[1m1s\u001b[0m 4ms/step - loss: 0.5219 - mae: 0.5217 - val_loss: 0.4567 - val_mae: 0.5090\n",
      "Epoch 159/200\n",
      "\u001b[1m141/141\u001b[0m \u001b[32m━━━━━━━━━━━━━━━━━━━━\u001b[0m\u001b[37m\u001b[0m \u001b[1m1s\u001b[0m 4ms/step - loss: 0.3982 - mae: 0.4608 - val_loss: 0.5447 - val_mae: 0.5596\n",
      "Epoch 160/200\n",
      "\u001b[1m141/141\u001b[0m \u001b[32m━━━━━━━━━━━━━━━━━━━━\u001b[0m\u001b[37m\u001b[0m \u001b[1m1s\u001b[0m 4ms/step - loss: 0.5107 - mae: 0.5072 - val_loss: 0.4961 - val_mae: 0.5378\n",
      "Epoch 161/200\n",
      "\u001b[1m141/141\u001b[0m \u001b[32m━━━━━━━━━━━━━━━━━━━━\u001b[0m\u001b[37m\u001b[0m \u001b[1m1s\u001b[0m 4ms/step - loss: 0.5082 - mae: 0.4961 - val_loss: 0.4618 - val_mae: 0.5432\n",
      "Epoch 162/200\n",
      "\u001b[1m141/141\u001b[0m \u001b[32m━━━━━━━━━━━━━━━━━━━━\u001b[0m\u001b[37m\u001b[0m \u001b[1m1s\u001b[0m 4ms/step - loss: 0.5868 - mae: 0.5392 - val_loss: 0.4050 - val_mae: 0.4985\n",
      "Epoch 163/200\n",
      "\u001b[1m141/141\u001b[0m \u001b[32m━━━━━━━━━━━━━━━━━━━━\u001b[0m\u001b[37m\u001b[0m \u001b[1m1s\u001b[0m 4ms/step - loss: 0.4426 - mae: 0.4897 - val_loss: 0.4194 - val_mae: 0.5003\n",
      "Epoch 164/200\n",
      "\u001b[1m141/141\u001b[0m \u001b[32m━━━━━━━━━━━━━━━━━━━━\u001b[0m\u001b[37m\u001b[0m \u001b[1m1s\u001b[0m 4ms/step - loss: 0.4265 - mae: 0.4870 - val_loss: 0.4454 - val_mae: 0.5022\n",
      "Epoch 165/200\n",
      "\u001b[1m141/141\u001b[0m \u001b[32m━━━━━━━━━━━━━━━━━━━━\u001b[0m\u001b[37m\u001b[0m \u001b[1m1s\u001b[0m 4ms/step - loss: 0.4051 - mae: 0.4691 - val_loss: 0.4313 - val_mae: 0.5146\n",
      "Epoch 166/200\n",
      "\u001b[1m141/141\u001b[0m \u001b[32m━━━━━━━━━━━━━━━━━━━━\u001b[0m\u001b[37m\u001b[0m \u001b[1m1s\u001b[0m 4ms/step - loss: 0.4736 - mae: 0.5090 - val_loss: 0.4437 - val_mae: 0.5241\n",
      "Epoch 167/200\n",
      "\u001b[1m141/141\u001b[0m \u001b[32m━━━━━━━━━━━━━━━━━━━━\u001b[0m\u001b[37m\u001b[0m \u001b[1m1s\u001b[0m 4ms/step - loss: 0.4566 - mae: 0.4795 - val_loss: 0.4241 - val_mae: 0.5056\n",
      "Epoch 168/200\n",
      "\u001b[1m141/141\u001b[0m \u001b[32m━━━━━━━━━━━━━━━━━━━━\u001b[0m\u001b[37m\u001b[0m \u001b[1m1s\u001b[0m 4ms/step - loss: 0.4968 - mae: 0.4768 - val_loss: 0.4936 - val_mae: 0.5513\n",
      "Epoch 169/200\n",
      "\u001b[1m141/141\u001b[0m \u001b[32m━━━━━━━━━━━━━━━━━━━━\u001b[0m\u001b[37m\u001b[0m \u001b[1m1s\u001b[0m 4ms/step - loss: 0.3385 - mae: 0.4266 - val_loss: 0.5215 - val_mae: 0.5711\n",
      "Epoch 170/200\n",
      "\u001b[1m141/141\u001b[0m \u001b[32m━━━━━━━━━━━━━━━━━━━━\u001b[0m\u001b[37m\u001b[0m \u001b[1m1s\u001b[0m 4ms/step - loss: 0.4369 - mae: 0.4828 - val_loss: 0.4243 - val_mae: 0.5080\n",
      "Epoch 171/200\n",
      "\u001b[1m141/141\u001b[0m \u001b[32m━━━━━━━━━━━━━━━━━━━━\u001b[0m\u001b[37m\u001b[0m \u001b[1m1s\u001b[0m 4ms/step - loss: 0.4025 - mae: 0.4621 - val_loss: 0.4715 - val_mae: 0.5310\n",
      "Epoch 172/200\n",
      "\u001b[1m141/141\u001b[0m \u001b[32m━━━━━━━━━━━━━━━━━━━━\u001b[0m\u001b[37m\u001b[0m \u001b[1m1s\u001b[0m 4ms/step - loss: 0.4074 - mae: 0.4657 - val_loss: 0.4509 - val_mae: 0.5104\n",
      "Epoch 173/200\n",
      "\u001b[1m141/141\u001b[0m \u001b[32m━━━━━━━━━━━━━━━━━━━━\u001b[0m\u001b[37m\u001b[0m \u001b[1m1s\u001b[0m 4ms/step - loss: 0.4891 - mae: 0.4998 - val_loss: 0.4271 - val_mae: 0.5198\n",
      "Epoch 174/200\n",
      "\u001b[1m141/141\u001b[0m \u001b[32m━━━━━━━━━━━━━━━━━━━━\u001b[0m\u001b[37m\u001b[0m \u001b[1m1s\u001b[0m 4ms/step - loss: 0.3773 - mae: 0.4645 - val_loss: 0.4604 - val_mae: 0.5267\n",
      "Epoch 175/200\n",
      "\u001b[1m141/141\u001b[0m \u001b[32m━━━━━━━━━━━━━━━━━━━━\u001b[0m\u001b[37m\u001b[0m \u001b[1m1s\u001b[0m 4ms/step - loss: 0.4230 - mae: 0.4671 - val_loss: 0.4265 - val_mae: 0.5029\n",
      "Epoch 176/200\n",
      "\u001b[1m141/141\u001b[0m \u001b[32m━━━━━━━━━━━━━━━━━━━━\u001b[0m\u001b[37m\u001b[0m \u001b[1m1s\u001b[0m 4ms/step - loss: 0.4828 - mae: 0.5077 - val_loss: 0.4066 - val_mae: 0.4886\n",
      "Epoch 177/200\n",
      "\u001b[1m141/141\u001b[0m \u001b[32m━━━━━━━━━━━━━━━━━━━━\u001b[0m\u001b[37m\u001b[0m \u001b[1m1s\u001b[0m 4ms/step - loss: 0.4041 - mae: 0.4611 - val_loss: 0.5047 - val_mae: 0.5330\n",
      "Epoch 178/200\n",
      "\u001b[1m141/141\u001b[0m \u001b[32m━━━━━━━━━━━━━━━━━━━━\u001b[0m\u001b[37m\u001b[0m \u001b[1m1s\u001b[0m 4ms/step - loss: 0.3882 - mae: 0.4508 - val_loss: 0.5054 - val_mae: 0.5358\n",
      "Epoch 179/200\n",
      "\u001b[1m141/141\u001b[0m \u001b[32m━━━━━━━━━━━━━━━━━━━━\u001b[0m\u001b[37m\u001b[0m \u001b[1m1s\u001b[0m 4ms/step - loss: 0.4300 - mae: 0.4802 - val_loss: 0.4192 - val_mae: 0.5016\n",
      "Epoch 180/200\n",
      "\u001b[1m141/141\u001b[0m \u001b[32m━━━━━━━━━━━━━━━━━━━━\u001b[0m\u001b[37m\u001b[0m \u001b[1m1s\u001b[0m 4ms/step - loss: 0.4039 - mae: 0.4635 - val_loss: 0.4297 - val_mae: 0.5064\n",
      "Epoch 181/200\n",
      "\u001b[1m141/141\u001b[0m \u001b[32m━━━━━━━━━━━━━━━━━━━━\u001b[0m\u001b[37m\u001b[0m \u001b[1m1s\u001b[0m 4ms/step - loss: 0.3880 - mae: 0.4467 - val_loss: 0.4345 - val_mae: 0.5165\n",
      "Epoch 182/200\n",
      "\u001b[1m141/141\u001b[0m \u001b[32m━━━━━━━━━━━━━━━━━━━━\u001b[0m\u001b[37m\u001b[0m \u001b[1m1s\u001b[0m 4ms/step - loss: 0.4803 - mae: 0.5028 - val_loss: 0.4316 - val_mae: 0.5008\n",
      "Epoch 183/200\n",
      "\u001b[1m141/141\u001b[0m \u001b[32m━━━━━━━━━━━━━━━━━━━━\u001b[0m\u001b[37m\u001b[0m \u001b[1m1s\u001b[0m 4ms/step - loss: 0.4387 - mae: 0.4766 - val_loss: 0.4335 - val_mae: 0.5015\n",
      "Epoch 184/200\n",
      "\u001b[1m141/141\u001b[0m \u001b[32m━━━━━━━━━━━━━━━━━━━━\u001b[0m\u001b[37m\u001b[0m \u001b[1m1s\u001b[0m 4ms/step - loss: 0.4477 - mae: 0.4571 - val_loss: 0.3788 - val_mae: 0.4793\n",
      "Epoch 185/200\n",
      "\u001b[1m141/141\u001b[0m \u001b[32m━━━━━━━━━━━━━━━━━━━━\u001b[0m\u001b[37m\u001b[0m \u001b[1m1s\u001b[0m 4ms/step - loss: 0.4481 - mae: 0.4923 - val_loss: 0.4021 - val_mae: 0.5020\n",
      "Epoch 186/200\n",
      "\u001b[1m141/141\u001b[0m \u001b[32m━━━━━━━━━━━━━━━━━━━━\u001b[0m\u001b[37m\u001b[0m \u001b[1m1s\u001b[0m 4ms/step - loss: 0.4906 - mae: 0.4981 - val_loss: 0.4375 - val_mae: 0.5047\n",
      "Epoch 187/200\n",
      "\u001b[1m141/141\u001b[0m \u001b[32m━━━━━━━━━━━━━━━━━━━━\u001b[0m\u001b[37m\u001b[0m \u001b[1m1s\u001b[0m 4ms/step - loss: 0.4032 - mae: 0.4574 - val_loss: 0.4021 - val_mae: 0.5017\n",
      "Epoch 188/200\n",
      "\u001b[1m141/141\u001b[0m \u001b[32m━━━━━━━━━━━━━━━━━━━━\u001b[0m\u001b[37m\u001b[0m \u001b[1m1s\u001b[0m 4ms/step - loss: 0.4792 - mae: 0.4868 - val_loss: 0.4194 - val_mae: 0.4867\n",
      "Epoch 189/200\n",
      "\u001b[1m141/141\u001b[0m \u001b[32m━━━━━━━━━━━━━━━━━━━━\u001b[0m\u001b[37m\u001b[0m \u001b[1m1s\u001b[0m 4ms/step - loss: 0.4303 - mae: 0.4584 - val_loss: 0.4281 - val_mae: 0.5004\n",
      "Epoch 190/200\n",
      "\u001b[1m141/141\u001b[0m \u001b[32m━━━━━━━━━━━━━━━━━━━━\u001b[0m\u001b[37m\u001b[0m \u001b[1m1s\u001b[0m 4ms/step - loss: 0.4332 - mae: 0.4671 - val_loss: 0.4354 - val_mae: 0.5040\n",
      "Epoch 191/200\n",
      "\u001b[1m141/141\u001b[0m \u001b[32m━━━━━━━━━━━━━━━━━━━━\u001b[0m\u001b[37m\u001b[0m \u001b[1m1s\u001b[0m 4ms/step - loss: 0.4435 - mae: 0.4739 - val_loss: 0.4032 - val_mae: 0.4758\n",
      "Epoch 192/200\n",
      "\u001b[1m141/141\u001b[0m \u001b[32m━━━━━━━━━━━━━━━━━━━━\u001b[0m\u001b[37m\u001b[0m \u001b[1m1s\u001b[0m 4ms/step - loss: 0.4321 - mae: 0.4655 - val_loss: 0.4179 - val_mae: 0.4842\n",
      "Epoch 193/200\n",
      "\u001b[1m141/141\u001b[0m \u001b[32m━━━━━━━━━━━━━━━━━━━━\u001b[0m\u001b[37m\u001b[0m \u001b[1m1s\u001b[0m 4ms/step - loss: 0.4031 - mae: 0.4696 - val_loss: 0.4566 - val_mae: 0.5487\n",
      "Epoch 194/200\n",
      "\u001b[1m141/141\u001b[0m \u001b[32m━━━━━━━━━━━━━━━━━━━━\u001b[0m\u001b[37m\u001b[0m \u001b[1m1s\u001b[0m 4ms/step - loss: 0.4267 - mae: 0.4654 - val_loss: 0.4392 - val_mae: 0.5055\n",
      "Epoch 195/200\n",
      "\u001b[1m141/141\u001b[0m \u001b[32m━━━━━━━━━━━━━━━━━━━━\u001b[0m\u001b[37m\u001b[0m \u001b[1m1s\u001b[0m 4ms/step - loss: 0.4955 - mae: 0.4994 - val_loss: 0.4294 - val_mae: 0.5041\n",
      "Epoch 196/200\n",
      "\u001b[1m141/141\u001b[0m \u001b[32m━━━━━━━━━━━━━━━━━━━━\u001b[0m\u001b[37m\u001b[0m \u001b[1m1s\u001b[0m 4ms/step - loss: 0.3717 - mae: 0.4444 - val_loss: 0.5287 - val_mae: 0.5673\n",
      "Epoch 197/200\n",
      "\u001b[1m141/141\u001b[0m \u001b[32m━━━━━━━━━━━━━━━━━━━━\u001b[0m\u001b[37m\u001b[0m \u001b[1m1s\u001b[0m 4ms/step - loss: 0.4349 - mae: 0.4679 - val_loss: 0.3933 - val_mae: 0.4924\n",
      "Epoch 198/200\n",
      "\u001b[1m141/141\u001b[0m \u001b[32m━━━━━━━━━━━━━━━━━━━━\u001b[0m\u001b[37m\u001b[0m \u001b[1m1s\u001b[0m 4ms/step - loss: 0.5387 - mae: 0.5184 - val_loss: 0.4463 - val_mae: 0.5209\n",
      "Epoch 199/200\n",
      "\u001b[1m141/141\u001b[0m \u001b[32m━━━━━━━━━━━━━━━━━━━━\u001b[0m\u001b[37m\u001b[0m \u001b[1m1s\u001b[0m 4ms/step - loss: 0.5573 - mae: 0.5122 - val_loss: 0.4029 - val_mae: 0.4781\n",
      "Epoch 200/200\n",
      "\u001b[1m141/141\u001b[0m \u001b[32m━━━━━━━━━━━━━━━━━━━━\u001b[0m\u001b[37m\u001b[0m \u001b[1m1s\u001b[0m 3ms/step - loss: 0.3843 - mae: 0.4549 - val_loss: 0.4276 - val_mae: 0.4998\n"
     ]
    }
   ],
   "source": [
    "from tensorflow.keras.callbacks import EarlyStopping\n",
    "\n",
    "\n",
    "\n",
    "history = model.fit(\n",
    "    X_train, \n",
    "    y_train,\n",
    "    validation_data=(X_val, y_val),\n",
    "    batch_size=BATCH_SIZE,\n",
    "    epochs=NUM_OF_EPOCHS,\n",
    "    verbose=1,\n",
    "  \n",
    ")\n"
   ]
  },
  {
   "cell_type": "code",
   "execution_count": 209,
   "metadata": {
    "colab": {
     "base_uri": "https://localhost:8080/"
    },
    "id": "_ExwC_AHi9p9",
    "outputId": "6ff38ba3-3665-42f3-8c33-6b05368c2b43"
   },
   "outputs": [
    {
     "name": "stdout",
     "output_type": "stream",
     "text": [
      "\u001b[1m27/27\u001b[0m \u001b[32m━━━━━━━━━━━━━━━━━━━━\u001b[0m\u001b[37m\u001b[0m \u001b[1m0s\u001b[0m 3ms/step - loss: 0.4811 - mae: 0.4712\n",
      "\u001b[1m4/4\u001b[0m \u001b[32m━━━━━━━━━━━━━━━━━━━━\u001b[0m\u001b[37m\u001b[0m \u001b[1m0s\u001b[0m 4ms/step - loss: 0.4250 - mae: 0.4959 \n",
      "\u001b[1m4/4\u001b[0m \u001b[32m━━━━━━━━━━━━━━━━━━━━\u001b[0m\u001b[37m\u001b[0m \u001b[1m0s\u001b[0m 8ms/step - loss: 0.5323 - mae: 0.5571 \n",
      "Training Loss: 0.41, Training MAE: 0.46\n",
      "Validation Loss: 0.43, Validation MAE: 0.50\n",
      "Test Loss: 0.55, Test MAE: 0.57\n"
     ]
    }
   ],
   "source": [
    "train_loss, train_mae = model.evaluate(X_train, y_train, verbose=1)\n",
    "val_loss, val_mae = model.evaluate(X_val, y_val, verbose=1)\n",
    "test_loss, test_mae = model.evaluate(X_test, y_test, verbose=1)\n",
    "\n",
    "print(f\"Training Loss: {train_loss:.2f}, Training MAE: {train_mae:.2f}\")\n",
    "print(f\"Validation Loss: {val_loss:.2f}, Validation MAE: {val_mae:.2f}\")\n",
    "print(f\"Test Loss: {test_loss:.2f}, Test MAE: {test_mae:.2f}\")\n"
   ]
  },
  {
   "cell_type": "code",
   "execution_count": 210,
   "metadata": {
    "colab": {
     "base_uri": "https://localhost:8080/"
    },
    "id": "g2rnbKfmjp2_",
    "outputId": "6f925239-e6fa-455a-b769-252cb348ddb1"
   },
   "outputs": [
    {
     "name": "stderr",
     "output_type": "stream",
     "text": [
      "WARNING:absl:You are saving your model as an HDF5 file via `model.save()` or `keras.saving.save_model(model)`. This file format is considered legacy. We recommend using instead the native Keras format, e.g. `model.save('my_model.keras')` or `keras.saving.save_model(model, 'my_model.keras')`. \n"
     ]
    }
   ],
   "source": [
    "model.save('EarthquakeMagnitudeModel.h5')"
   ]
  },
  {
   "cell_type": "markdown",
   "metadata": {},
   "source": [
    "## Tflite conversion"
   ]
  },
  {
   "cell_type": "code",
   "execution_count": 212,
   "metadata": {
    "id": "k0dHMx6OwJHi"
   },
   "outputs": [],
   "source": [
    "import tensorflow as tf\n",
    "import numpy as np"
   ]
  },
  {
   "cell_type": "code",
   "execution_count": 213,
   "metadata": {
    "colab": {
     "base_uri": "https://localhost:8080/"
    },
    "id": "bwO_qQCN05R1",
    "outputId": "81dd3aec-f0ef-47f9-d35b-f23eac7c8082"
   },
   "outputs": [],
   "source": [
    "def representative_dataset():\n",
    "    for i in range(100):  \n",
    "        data = X_test[i].astype(np.float32) \n",
    "        yield [data.reshape(1, -1)]"
   ]
  },
  {
   "cell_type": "code",
   "execution_count": 214,
   "metadata": {},
   "outputs": [
    {
     "name": "stderr",
     "output_type": "stream",
     "text": [
      "WARNING:absl:Compiled the loaded model, but the compiled metrics have yet to be built. `model.compile_metrics` will be empty until you train or evaluate the model.\n"
     ]
    }
   ],
   "source": [
    "model = tf.keras.models.load_model('EarthquakeMagnitudeModel.h5')"
   ]
  },
  {
   "cell_type": "code",
   "execution_count": 216,
   "metadata": {},
   "outputs": [
    {
     "name": "stdout",
     "output_type": "stream",
     "text": [
      "INFO:tensorflow:Assets written to: C:\\Users\\amrut\\AppData\\Local\\Temp\\tmptgor6880\\assets\n"
     ]
    },
    {
     "name": "stderr",
     "output_type": "stream",
     "text": [
      "INFO:tensorflow:Assets written to: C:\\Users\\amrut\\AppData\\Local\\Temp\\tmptgor6880\\assets\n"
     ]
    },
    {
     "name": "stdout",
     "output_type": "stream",
     "text": [
      "Saved artifact at 'C:\\Users\\amrut\\AppData\\Local\\Temp\\tmptgor6880'. The following endpoints are available:\n",
      "\n",
      "* Endpoint 'serve'\n",
      "  args_0 (POSITIONAL_ONLY): TensorSpec(shape=(None, 3), dtype=tf.float32, name='input_layer_3')\n",
      "Output Type:\n",
      "  TensorSpec(shape=(None, 1), dtype=tf.float32, name=None)\n",
      "Captures:\n",
      "  2294425439888: TensorSpec(shape=(), dtype=tf.resource, name=None)\n",
      "  2294425439312: TensorSpec(shape=(), dtype=tf.resource, name=None)\n",
      "  2294425440272: TensorSpec(shape=(), dtype=tf.resource, name=None)\n",
      "  2294425439696: TensorSpec(shape=(), dtype=tf.resource, name=None)\n",
      "  2294425441040: TensorSpec(shape=(), dtype=tf.resource, name=None)\n",
      "  2294425440464: TensorSpec(shape=(), dtype=tf.resource, name=None)\n"
     ]
    },
    {
     "name": "stderr",
     "output_type": "stream",
     "text": [
      "C:\\Users\\amrut\\anaconda3\\Lib\\site-packages\\tensorflow\\lite\\python\\convert.py:983: UserWarning: Statistics for quantized inputs were expected, but not specified; continuing anyway.\n",
      "  warnings.warn(\n"
     ]
    }
   ],
   "source": [
    "converter = tf.lite.TFLiteConverter.from_keras_model(model)\n",
    "converter.optimizations = [tf.lite.Optimize.DEFAULT]\n",
    "converter.representative_dataset = representative_dataset\n",
    "tflite_model = converter.convert()"
   ]
  },
  {
   "cell_type": "code",
   "execution_count": 217,
   "metadata": {
    "id": "zlKKY2YYvU7N"
   },
   "outputs": [],
   "source": [
    "with open('EarthquakeMagnitudeModel.tflite', 'wb') as f:\n",
    "    f.write(tflite_model)"
   ]
  },
  {
   "cell_type": "code",
   "execution_count": 218,
   "metadata": {
    "colab": {
     "base_uri": "https://localhost:8080/"
    },
    "id": "LOn-WEzQz84e",
    "outputId": "c70da42a-39c3-4609-b3b0-174457f76999"
   },
   "outputs": [],
   "source": [
    "interpreter = tf.lite.Interpreter(model_path=\"EarthquakeMagnitudeModel.tflite\")\n",
    "interpreter.allocate_tensors()"
   ]
  },
  {
   "cell_type": "code",
   "execution_count": 219,
   "metadata": {
    "colab": {
     "base_uri": "https://localhost:8080/",
     "height": 193
    },
    "id": "veI5AePbvwmo",
    "outputId": "81a7b3d9-d2f1-49d3-cb45-83a5c5a37cec"
   },
   "outputs": [
    {
     "name": "stdout",
     "output_type": "stream",
     "text": [
      "input_details:\n",
      " [{'name': 'serving_default_input_layer_3:0', 'index': 0, 'shape': array([1, 3]), 'shape_signature': array([-1,  3]), 'dtype': <class 'numpy.float32'>, 'quantization': (0.0, 0), 'quantization_parameters': {'scales': array([], dtype=float32), 'zero_points': array([], dtype=int32), 'quantized_dimension': 0}, 'sparsity_parameters': {}}]\n",
      "output_details:\n",
      " [{'name': 'StatefulPartitionedCall_1:0', 'index': 11, 'shape': array([1, 1]), 'shape_signature': array([-1,  1]), 'dtype': <class 'numpy.float32'>, 'quantization': (0.0, 0), 'quantization_parameters': {'scales': array([], dtype=float32), 'zero_points': array([], dtype=int32), 'quantized_dimension': 0}, 'sparsity_parameters': {}}]\n"
     ]
    }
   ],
   "source": [
    "input_details = interpreter.get_input_details()\n",
    "output_details = interpreter.get_output_details()\n",
    "print('input_details:\\n', input_details)\n",
    "print('output_details:\\n', output_details)"
   ]
  },
  {
   "cell_type": "code",
   "execution_count": 220,
   "metadata": {},
   "outputs": [],
   "source": [
    "input_shape = input_details[0]['shape']\n",
    "input0_data = np.random.random_sample(input_shape)\n",
    "input0_data = np.array(input0_data, dtype=np.float32)\n",
    "interpreter.set_tensor(input_details[0]['index'], input0_data)"
   ]
  },
  {
   "cell_type": "code",
   "execution_count": 221,
   "metadata": {
    "id": "Y9Et-eQQv4Nc"
   },
   "outputs": [
    {
     "name": "stdout",
     "output_type": "stream",
     "text": [
      "[[5.5977316]]\n"
     ]
    }
   ],
   "source": [
    "interpreter.invoke()\n",
    "output0_data = interpreter.get_tensor(output_details[0]['index'])\n",
    "print(output0_data)"
   ]
  },
  {
   "cell_type": "code",
   "execution_count": 222,
   "metadata": {},
   "outputs": [
    {
     "name": "stdout",
     "output_type": "stream",
     "text": [
      "\u001b[1m1/1\u001b[0m \u001b[32m━━━━━━━━━━━━━━━━━━━━\u001b[0m\u001b[37m\u001b[0m \u001b[1m0s\u001b[0m 128ms/step\n",
      "[[5.6126776]]\n"
     ]
    }
   ],
   "source": [
    "output0_data_model = model.predict(input0_data)\n",
    "print(output0_data_model)\n"
   ]
  },
  {
   "cell_type": "code",
   "execution_count": 223,
   "metadata": {},
   "outputs": [],
   "source": [
    "import time\n",
    "import sys\n",
    "\n",
    "def hex_to_c_array(hex_data, var_name):\n",
    "    c_str = \"\"\n",
    "    c_str += '#ifndef ' + var_name.upper() + '_H\\n'\n",
    "    c_str += \"#define \" + var_name.upper() + '_H\\n\\n'\n",
    "    localtime = time.asctime(time.localtime(time.time()))\n",
    "    c_str += \" This model data was generated on \" + localtime + '\\n\\n'\n",
    "    c_str += \" Tools used:\\n Python:\" + str(sys.version) + \"\\n Numpy:\" + str(np.version.version) + \\\n",
    "             \"\\n TensorFlow:\" + str(sys.version) + \"\\n Keras: \" + str(tf.keras.__version__) + \"\\n\\n\"\n",
    "    c_str += ' Model details are:\\n'\n",
    "    c_str += ' NUM_OF_EPOCHS = ' + str(NUM_OF_EPOCHS) + '\\n'\n",
    "    c_str += ' BATCH_SIZE    = ' + str(BATCH_SIZE) + '\\n*/\\n'\n",
    "    c_str += '\\nconst int ' + 'DENSE1_SIZE' + ' = ' + str(DENSE1_SIZE) + ';\\n'\n",
    "    c_str += 'const int ' + 'DENSE2_SIZE' + ' = ' + str(DENSE2_SIZE) + ';\\n'      \n",
    "    c_str += '\\nconst unsigned int ' + var_name + '_len = ' + str(len(hex_data)) + ';\\n'\n",
    "    c_str += 'alignas(8) const unsigned char ' + var_name + '[] = {'\n",
    "    hex_array = []\n",
    "    for i, val in enumerate(hex_data):\n",
    "        hex_str = format(val, '#04x')\n",
    "        if (i + 1) < len(hex_data):\n",
    "            hex_str += ','\n",
    "        if (i + 1) % 12 == 0:\n",
    "            hex_str += '\\n'\n",
    "        hex_array.append(hex_str)\n",
    "    c_str += '\\n' + format(''.join(hex_array)) + '\\n};\\n\\n'\n",
    "    c_str += '#endif //' + var_name.upper() + '_H'\n",
    "    return c_str\n"
   ]
  },
  {
   "cell_type": "code",
   "execution_count": 224,
   "metadata": {},
   "outputs": [],
   "source": [
    "with open(\"earthquake_model_esp32.h\", 'w') as file:\n",
    "    file.write(hex_to_c_array(tflite_model, \"earthquake_model_esp32\"))"
   ]
  }
 ],
 "metadata": {
  "accelerator": "GPU",
  "colab": {
   "gpuType": "T4",
   "provenance": []
  },
  "kernelspec": {
   "display_name": "Python 3 (ipykernel)",
   "language": "python",
   "name": "python3"
  },
  "language_info": {
   "codemirror_mode": {
    "name": "ipython",
    "version": 3
   },
   "file_extension": ".py",
   "mimetype": "text/x-python",
   "name": "python",
   "nbconvert_exporter": "python",
   "pygments_lexer": "ipython3",
   "version": "3.12.4"
  }
 },
 "nbformat": 4,
 "nbformat_minor": 4
}
